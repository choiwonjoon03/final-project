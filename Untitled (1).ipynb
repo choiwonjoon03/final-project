{
 "cells": [
  {
   "cell_type": "code",
   "execution_count": 2,
   "id": "4cadcbb9-fc02-479c-811c-ec4e2ca5c81f",
   "metadata": {},
   "outputs": [
    {
     "name": "stdout",
     "output_type": "stream",
     "text": [
      "Accuracy for C:\\Users\\choiw\\Downloads\\tumor_dataset\\tumor_dataset\\Training\\pituitary_tumor: 1.0\n",
      "Accuracy for C:\\Users\\choiw\\Downloads\\tumor_dataset\\tumor_dataset\\Training\\no_tumor: 1.0\n",
      "Accuracy for C:\\Users\\choiw\\Downloads\\tumor_dataset\\tumor_dataset\\Training\\meningioma_tumor: 1.0\n",
      "Accuracy for C:\\Users\\choiw\\Downloads\\tumor_dataset\\tumor_dataset\\Training\\glioma_tumor: 1.0\n",
      "Final Accuracy: 1.0\n"
     ]
    }
   ],
   "source": [
    "from PIL import Image\n",
    "import os\n",
    "import numpy as np\n",
    "from sklearn.ensemble import RandomForestClassifier\n",
    "from sklearn.metrics import accuracy_score\n",
    "from sklearn.model_selection import train_test_split\n",
    "\n",
    "# load_and_preprocess_images 함수 정의\n",
    "\n",
    "def load_and_preprocess_images(folder_path, target_size=(64, 64)):\n",
    "    images = []\n",
    "    labels = []\n",
    "    \n",
    "    # 폴더인지 확인\n",
    "    if os.path.isdir(folder_path):\n",
    "        for filename in os.listdir(folder_path):\n",
    "            filepath = os.path.join(folder_path, filename)\n",
    "            \n",
    "            # 파일이 이미지인지 확인\n",
    "            if os.path.isfile(filepath) and filename.lower().endswith(('.png', '.jpg', '.jpeg')):\n",
    "                # 이미지 불러오기\n",
    "                img = Image.open(filepath)\n",
    "                \n",
    "                # 이미지 크기 조절\n",
    "                img = img.resize(target_size)\n",
    "                \n",
    "                # 이미지 데이터를 리스트에 추가\n",
    "                images.append(np.array(img))\n",
    "                labels.append(os.path.basename(folder_path))\n",
    "    \n",
    "    return np.array(images), np.array(labels)\n",
    "\n",
    "# 디렉토리 경로들\n",
    "directory_paths = [r'C:\\Users\\choiw\\Downloads\\tumor_dataset\\tumor_dataset\\Training\\pituitary_tumor',\n",
    "                   r'C:\\Users\\choiw\\Downloads\\tumor_dataset\\tumor_dataset\\Training\\no_tumor',\n",
    "                   r'C:\\Users\\choiw\\Downloads\\tumor_dataset\\tumor_dataset\\Training\\meningioma_tumor',\n",
    "                   r'C:\\Users\\choiw\\Downloads\\tumor_dataset\\tumor_dataset\\Training\\glioma_tumor']\n",
    "\n",
    "# 결과를 저장할 리스트 초기화\n",
    "all_accuracies = []\n",
    "\n",
    "# 각 디렉토리에서 데이터 불러오고 모델 훈련 및 평가\n",
    "for directory_path in directory_paths:\n",
    "    X, y = load_and_preprocess_images(directory_path)\n",
    "    X_train, X_test, y_train, y_test = train_test_split(X, y, test_size=0.25, random_state=42)\n",
    "    \n",
    "    # RandomForestClassifier 모델 생성\n",
    "    model = RandomForestClassifier()\n",
    "    \n",
    "    # 모델 훈련\n",
    "    model.fit(X_train.reshape(X_train.shape[0], -1), y_train)\n",
    "    \n",
    "    # 테스트 데이터로 평가\n",
    "    y_pred = model.predict(X_test.reshape(X_test.shape[0], -1))\n",
    "    \n",
    "    # 정확도 측정\n",
    "    accuracy = accuracy_score(y_test, y_pred)\n",
    "    \n",
    "    # 결과 출력\n",
    "    print(f'Accuracy for {directory_path}: {accuracy}')\n",
    "    \n",
    "    # 결과 저장\n",
    "    all_accuracies.append(accuracy)\n",
    "\n",
    "# 모든 디렉토리에서 얻은 결과를 종합하여 최종 결과 계산\n",
    "final_accuracy = sum(all_accuracies) / len(all_accuracies)\n",
    "print(f'Final Accuracy: {final_accuracy}')\n"
   ]
  },
  {
   "cell_type": "code",
   "execution_count": 3,
   "id": "3782e7cd-5a1b-4749-8300-c24b815c26d1",
   "metadata": {},
   "outputs": [
    {
     "name": "stdout",
     "output_type": "stream",
     "text": [
      "Writing README.md\n"
     ]
    }
   ],
   "source": [
    "%%writefile README.md\n",
    "\n",
    "# Brain Tumor Classification Project\n",
    "\n",
    "## Overview\n",
    "This project aims to classify brain tumors into different categories using machine learning. The dataset consists of MRI images, and the goal is to train a model to accurately classify tumors as Benign, Malignant, Pituitary, etc.\n",
    "\n",
    "## Jupyter Notebook\n",
    "- `brain_tumor_classification.ipynb`: Jupyter Notebook file containing the code for model training and evaluation.\n",
    "\n",
    "## How to Run\n",
    "1. Install required dependencies: `pip install -r requirements.txt`\n",
    "2. Open `brain_tumor_classification.ipynb` in Jupyter Notebook.\n",
    "3. Run the cells in order to train and evaluate the model.\n"
   ]
  }
 ],
 "metadata": {
  "kernelspec": {
   "display_name": "Python 3 (ipykernel)",
   "language": "python",
   "name": "python3"
  },
  "language_info": {
   "codemirror_mode": {
    "name": "ipython",
    "version": 3
   },
   "file_extension": ".py",
   "mimetype": "text/x-python",
   "name": "python",
   "nbconvert_exporter": "python",
   "pygments_lexer": "ipython3",
   "version": "3.12.0"
  }
 },
 "nbformat": 4,
 "nbformat_minor": 5
}
